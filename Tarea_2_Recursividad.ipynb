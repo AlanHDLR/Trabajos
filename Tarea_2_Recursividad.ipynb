{
  "nbformat": 4,
  "nbformat_minor": 0,
  "metadata": {
    "colab": {
      "name": "Tarea 2 - Recursividad",
      "provenance": [],
      "include_colab_link": true
    },
    "kernelspec": {
      "name": "python3",
      "display_name": "Python 3"
    },
    "language_info": {
      "name": "python"
    }
  },
  "cells": [
    {
      "cell_type": "markdown",
      "metadata": {
        "id": "view-in-github",
        "colab_type": "text"
      },
      "source": [
        "<a href=\"https://colab.research.google.com/github/AlanHDLR/Trabajos/blob/main/Tarea_2_Recursividad.ipynb\" target=\"_parent\"><img src=\"https://colab.research.google.com/assets/colab-badge.svg\" alt=\"Open In Colab\"/></a>"
      ]
    },
    {
      "cell_type": "code",
      "metadata": {
        "id": "Bx-sSdGvTv9t"
      },
      "source": [
        "#Ejercio 1 Fibonacci (Recursividad / Ejecutar primero)\n",
        "f = [0, 1]\n",
        "def s(num):\n",
        "    if num > 0 and num <= len(f):\n",
        "        return f[num-1]\n",
        "    else:\n",
        "        c = s(num-1) + s(num-2)\n",
        "        if num > len(f):\n",
        "            f.append(c)\n",
        "        return c"
      ],
      "execution_count": 39,
      "outputs": []
    },
    {
      "cell_type": "code",
      "metadata": {
        "id": "rWl6PjgJT3Cc"
      },
      "source": [
        "#Ejercicio 1 Fibonacci (Ejecutable / usuario)\n",
        "no = input(\"Hasta que número sumara la serie de Fibonacci: \")\n",
        "no = int(no)\n",
        "num = s(no)\n",
        "print(f)"
      ],
      "execution_count": null,
      "outputs": []
    },
    {
      "cell_type": "code",
      "metadata": {
        "id": "04On0vSH_GKq"
      },
      "source": [
        "#Ejercicio 2 Sumar lista (Recursividad / Ejecutar primero)\n",
        "def suma(n):\n",
        "    if len(n)== 0:\n",
        "        return 0\n",
        "    else:\n",
        "        return n[0] + suma(n[1:])"
      ],
      "execution_count": 52,
      "outputs": []
    },
    {
      "cell_type": "code",
      "metadata": {
        "id": "nYpwIva-2gR0",
        "colab": {
          "base_uri": "https://localhost:8080/"
        },
        "outputId": "58604750-7f72-4d91-d107-1d6633f1694b"
      },
      "source": [
        "# Ejercicio 2 - Sumar lista (Ejecutable / usuario)\n",
        " \n",
        "l = []\n",
        "nu = input(\"Dame los números a sumar\\n(Separados con espacios, da enter cuando termines): \")\n",
        "l = [int(i) for i in nu.split(' ')]\n",
        " \n",
        "r = suma(l)\n",
        " \n",
        "print(\"La suma de todos los números es: \", r)\n",
        "\n",
        "#Si marca error, tal ves hay un doble espacio o un espacio al final"
      ],
      "execution_count": 55,
      "outputs": [
        {
          "output_type": "stream",
          "name": "stdout",
          "text": [
            "Dame los números a sumar\n",
            "(Separados con espacios, da enter cuando termines): 1 2 3 4 5 6 7 8\n",
            "La suma de todos los números es:  36\n"
          ]
        }
      ]
    },
    {
      "cell_type": "code",
      "metadata": {
        "id": "Yz5ERHN6FoK-"
      },
      "source": [
        "#Ejercicio 3 Contador (Recursividad / Ejecutar primero)\n",
        "def cuenta(n):\n",
        " n -= 1\n",
        " if n >= 0:\n",
        "   print(n)\n",
        "   cuenta(n)\n",
        " else:\n",
        "   print(\"BOOMMMMM !!!\")"
      ],
      "execution_count": 45,
      "outputs": []
    },
    {
      "cell_type": "code",
      "metadata": {
        "id": "0guQPEtzMaD0"
      },
      "source": [
        "#Ejercicio 3 Contador (Ejecutable / usuario)\n",
        "a = input(\"Desde que número empezamos la cuenta: \")\n",
        "print(a)\n",
        "a = int(a)\n",
        "cuenta(a)"
      ],
      "execution_count": null,
      "outputs": []
    },
    {
      "cell_type": "code",
      "metadata": {
        "id": "DFPK53yRJ3Yo"
      },
      "source": [
        "#Ejercicio 4 Valor medio (Recursividad / Ejecutar primero)\n",
        "def m(arr, long):\n",
        "    if (long % 2) == 0:\n",
        "        long = (long//2) - 1\n",
        "        arr = arr[:long-1] + arr[long:]\n",
        "    else:\n",
        "        long = long//2\n",
        "        arr = arr[:long] + arr[long+1:]\n",
        "    return arr\n"
      ],
      "execution_count": 47,
      "outputs": []
    },
    {
      "cell_type": "code",
      "metadata": {
        "id": "NMQXFNfdJ13B"
      },
      "source": [
        "#Ejercicio 4 Valor medio (Ejecutable / usuario)\n",
        "arr = str(input(\"Escribe algo: \"))\n",
        "long = len(arr)\n",
        "print(m(arr, long))\n"
      ],
      "execution_count": null,
      "outputs": []
    }
  ]
}